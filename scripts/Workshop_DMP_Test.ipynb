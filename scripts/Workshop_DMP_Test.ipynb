{
  "metadata": {
    "kernelspec": {
      "name": "python",
      "display_name": "Python (Pyodide)",
      "language": "python"
    },
    "language_info": {
      "codemirror_mode": {
        "name": "python",
        "version": 3
      },
      "file_extension": ".py",
      "mimetype": "text/x-python",
      "name": "python",
      "nbconvert_exporter": "python",
      "pygments_lexer": "ipython3",
      "version": "3.8"
    }
  },
  "nbformat_minor": 4,
  "nbformat": 4,
  "cells": [
    {
      "cell_type": "markdown",
      "source": "# Contact Information",
      "metadata": {}
    },
    {
      "cell_type": "markdown",
      "source": "Author: Raphael Berger\n\nE-mail: raphael.berger@students.unibe.ch\n\nDate: 3.12.2024",
      "metadata": {}
    },
    {
      "cell_type": "markdown",
      "source": "# Analysis",
      "metadata": {}
    },
    {
      "cell_type": "markdown",
      "source": "## Compute variables\n",
      "metadata": {}
    },
    {
      "cell_type": "markdown",
      "source": "Here we compute:\n* archaeological sites\n* archaeological finds\n* material composition",
      "metadata": {}
    },
    {
      "cell_type": "code",
      "source": "archaeological finds = coordinates",
      "metadata": {
        "trusted": true
      },
      "outputs": [],
      "execution_count": null
    }
  ]
}